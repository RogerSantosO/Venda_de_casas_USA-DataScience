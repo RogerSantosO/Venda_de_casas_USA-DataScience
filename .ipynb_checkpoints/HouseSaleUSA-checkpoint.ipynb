{
 "cells": [
  {
   "cell_type": "code",
   "execution_count": 53,
   "metadata": {},
   "outputs": [],
   "source": [
    "#1.Quantas casas estão disponíveis para compra?\n",
    "#2.Quantos atributos as casas possuem?(Número de quartos,número de garagens)\n",
    "#3.Quais são os atributos?\n",
    "#4.Casa mais cara do portfólio(Casa com maior valor)\n",
    "#5.Qual a casa com o maior número de quartos?\n",
    "#6.Qual a soma total de quartos do conjunto de dados?\n",
    "#7.Quantas casas possuem 2 banheiros?\n",
    "#8.Qual o preço médio de todas as casas do conjunto de dados?\n",
    "#9.Qual o preço médio de casas com 2 banheiros?\n",
    "#10.Qual o preço mínimo entre casas com 3 quartos?\n",
    "#11.Quantas casas possuem mais de 300 metros quadrados na sala de estar?\n",
    "#12.Quantas casas têm mais de 2 andares?\n",
    "#13.Quantas casas têm vista para o mar?\n",
    "#14.Das casas com vista para o mar, quantas possuem 3 quartos?\n",
    "#15.Das casas com mais de 300 metros quadrados de sala de estar, quantas têm mais de 2 banheiros?"
   ]
  },
  {
   "cell_type": "code",
   "execution_count": 54,
   "metadata": {},
   "outputs": [
    {
     "name": "stdout",
     "output_type": "stream",
     "text": [
      "1.Quantas casas estão disponíveis para compra?\n",
      "21613\n"
     ]
    }
   ],
   "source": [
    "import pandas as pd\n",
    "df = pd.read_csv(\"kc_house_data.csv\")\n",
    "print('1.Quantas casas estão disponíveis para compra?')\n",
    "print(df.shape[0])\n"
   ]
  },
  {
   "cell_type": "code",
   "execution_count": 55,
   "metadata": {},
   "outputs": [
    {
     "name": "stdout",
     "output_type": "stream",
     "text": [
      "2.Quantos atributos as casas possuem?(Número de quartos,número de garagens)\n",
      "21\n"
     ]
    }
   ],
   "source": [
    "print('2.Quantos atributos as casas possuem?(Número de quartos,número de garagens)')\n",
    "print(df.shape[1])"
   ]
  },
  {
   "cell_type": "code",
   "execution_count": 56,
   "metadata": {},
   "outputs": [
    {
     "name": "stdout",
     "output_type": "stream",
     "text": [
      "3.Quais são os atributos?\n",
      "Index(['id', 'date', 'price', 'bedrooms', 'bathrooms', 'sqft_living',\n",
      "       'sqft_lot', 'floors', 'waterfront', 'view', 'condition', 'grade',\n",
      "       'sqft_above', 'sqft_basement', 'yr_built', 'yr_renovated', 'zipcode',\n",
      "       'lat', 'long', 'sqft_living15', 'sqft_lot15'],\n",
      "      dtype='object')\n"
     ]
    }
   ],
   "source": [
    "#Mostrar nome das colunas\n",
    "print('3.Quais são os atributos?')\n",
    "print(df.columns)"
   ]
  },
  {
   "cell_type": "code",
   "execution_count": 57,
   "metadata": {},
   "outputs": [
    {
     "name": "stdout",
     "output_type": "stream",
     "text": [
      "4.Casa mais cara do portfólio(Casa com maior valor)\n",
      "               id      price\n",
      "7252   6762700020  7700000.0\n",
      "3914   9808700762  7062500.0\n",
      "9254   9208900037  6885000.0\n",
      "4411   2470100110  5570000.0\n",
      "1448   8907500070  5350000.0\n",
      "...           ...        ...\n",
      "8274   3883800011    82000.0\n",
      "16198  3028200080    81000.0\n",
      "465    8658300340    80000.0\n",
      "15293    40000362    78000.0\n",
      "1149   3421079032    75000.0\n",
      "\n",
      "[21613 rows x 2 columns]\n",
      "A casa mais cara é a com o id de número: 6762700020\n"
     ]
    }
   ],
   "source": [
    "#Mostrar colunas de id e preço\n",
    "print('4.Casa mais cara do portfólio(Casa com maior valor)')\n",
    "print(df[['id','price']].sort_values('price', ascending=False))\n",
    "print('A casa mais cara é a com o id de número: 6762700020')"
   ]
  },
  {
   "cell_type": "code",
   "execution_count": 58,
   "metadata": {},
   "outputs": [
    {
     "name": "stdout",
     "output_type": "stream",
     "text": [
      "5.Qual a casa com o maior número de quartos?\n",
      "               id  bedrooms\n",
      "15870  2402100895        33\n",
      "8757   1773100755        11\n",
      "15161  5566100170        10\n",
      "13314   627300145        10\n",
      "19254  8812401450        10\n",
      "...           ...       ...\n",
      "19452  3980300371         0\n",
      "8484   2310060040         0\n",
      "875    6306400140         0\n",
      "8477   2569500210         0\n",
      "9773   3374500520         0\n",
      "\n",
      "[21613 rows x 2 columns]\n",
      "A casa com maior número de quartos é a: 2402100895\n"
     ]
    }
   ],
   "source": [
    "#Ordenar pela casa com maior número de quartos\n",
    "print('5.Qual a casa com o maior número de quartos?')\n",
    "print(df[['id','bedrooms']].sort_values('bedrooms', ascending=False))\n",
    "print('A casa com maior número de quartos é a: 2402100895')"
   ]
  },
  {
   "cell_type": "code",
   "execution_count": 59,
   "metadata": {},
   "outputs": [
    {
     "name": "stdout",
     "output_type": "stream",
     "text": [
      "6.Qual a soma total de quartos do conjunto de dados?\n",
      "72854\n"
     ]
    }
   ],
   "source": [
    "#Soma total do número de quartos\n",
    "total_quartos = df['bedrooms'].sum(axis=0)\n",
    "print('6.Qual a soma total de quartos do conjunto de dados?')\n",
    "print(total_quartos)"
   ]
  },
  {
   "cell_type": "code",
   "execution_count": 60,
   "metadata": {},
   "outputs": [
    {
     "name": "stdout",
     "output_type": "stream",
     "text": [
      "7.Quantas casas possuem 2 banheiros?\n",
      "1930\n"
     ]
    }
   ],
   "source": [
    "print('7.Quantas casas possuem 2 banheiros?')\n",
    "banheiros = df[df['bathrooms'] == 2].shape[0]\n",
    "print(banheiros)"
   ]
  },
  {
   "cell_type": "code",
   "execution_count": 61,
   "metadata": {},
   "outputs": [
    {
     "name": "stdout",
     "output_type": "stream",
     "text": [
      "8. Qual o preço médio de todas as casas no conjunto de dados?\n",
      "540088.1417665294\n"
     ]
    }
   ],
   "source": [
    "print('8. Qual o preço médio de todas as casas no conjunto de dados?')\n",
    "preco_medio = df['price'].mean()\n",
    "print(preco_medio)"
   ]
  },
  {
   "cell_type": "code",
   "execution_count": 62,
   "metadata": {},
   "outputs": [
    {
     "name": "stdout",
     "output_type": "stream",
     "text": [
      "9. Qual o preço médio de casas com 2 banheiros?\n",
      "457889.7186528497\n"
     ]
    }
   ],
   "source": [
    "print('9. Qual o preço médio de casas com 2 banheiros?')\n",
    "medio_2banheiros = df.loc[df['bathrooms'] == 2,'price'].mean()\n",
    "print(medio_2banheiros)"
   ]
  },
  {
   "cell_type": "code",
   "execution_count": 63,
   "metadata": {},
   "outputs": [
    {
     "name": "stdout",
     "output_type": "stream",
     "text": [
      "10. Qual o preço mínimo entre as casas com 3 quartos?\n",
      "82000.0\n"
     ]
    }
   ],
   "source": [
    "print('10. Qual o preço mínimo entre as casas com 3 quartos?')\n",
    "min_3quartos = df.loc[df['bedrooms'] == 3,'price'].min()\n",
    "print(min_3quartos)"
   ]
  },
  {
   "cell_type": "code",
   "execution_count": 64,
   "metadata": {},
   "outputs": [
    {
     "name": "stdout",
     "output_type": "stream",
     "text": [
      "11. Quantas casas possuem mais de 300 metros quadrados na sala de estar?\n",
      "2258\n"
     ]
    }
   ],
   "source": [
    "print('11. Quantas casas possuem mais de 300 metros quadrados na sala de estar?')\n",
    "df['casas_2m'] = df['sqft_living'] * 0.09290304\n",
    "casas_300m = df[df['casas_2m'] > 300].shape[0]\n",
    "print(casas_300m)"
   ]
  },
  {
   "cell_type": "code",
   "execution_count": 65,
   "metadata": {},
   "outputs": [
    {
     "name": "stdout",
     "output_type": "stream",
     "text": [
      "12. Quantas casas tem mais de 2 andares?\n",
      "782\n"
     ]
    }
   ],
   "source": [
    "print('12. Quantas casas tem mais de 2 andares?')\n",
    "andares_2 = df[df['floors'] > 2].shape[0] \n",
    "print(andares_2)"
   ]
  },
  {
   "cell_type": "code",
   "execution_count": 66,
   "metadata": {},
   "outputs": [
    {
     "name": "stdout",
     "output_type": "stream",
     "text": [
      "13. Quantas casas tem vista para o mar?\n",
      "163\n"
     ]
    }
   ],
   "source": [
    "print('13. Quantas casas tem vista para o mar?')\n",
    "vista_mar = df[df['waterfront'] > 0 ].shape[0]\n",
    "print(vista_mar)"
   ]
  },
  {
   "cell_type": "code",
   "execution_count": 67,
   "metadata": {},
   "outputs": [
    {
     "name": "stdout",
     "output_type": "stream",
     "text": [
      "14. Das casas com vista para o mar, quantas tem 3 quartos?\n",
      "64\n"
     ]
    }
   ],
   "source": [
    "print('14. Das casas com vista para o mar, quantas tem 3 quartos?')\n",
    "vista_mar_3quartos = df[(df['waterfront'] > 0) & (df['bedrooms'] == 3)].shape[0]\n",
    "print(vista_mar_3quartos)"
   ]
  },
  {
   "cell_type": "code",
   "execution_count": 68,
   "metadata": {},
   "outputs": [
    {
     "name": "stdout",
     "output_type": "stream",
     "text": [
      "15. Das casas com mais de 300 metros quadrados de sala de estar, quantas tem mais de 2 banheiros?\n",
      "2201\n"
     ]
    }
   ],
   "source": [
    "print('15. Das casas com mais de 300 metros quadrados de sala de estar, quantas tem mais de 2 banheiros?')\n",
    "sala_2banheiros = df[(df['casas_2m'] > 300) & (df['bathrooms'] > 2)].shape[0]\n",
    "print(sala_2banheiros)"
   ]
  }
 ],
 "metadata": {
  "interpreter": {
   "hash": "0f582f24f8e535461a70587e31ee569290de50431b7adc187ab7c53ff38249c8"
  },
  "kernelspec": {
   "display_name": "Python 3",
   "language": "python",
   "name": "python3"
  },
  "language_info": {
   "codemirror_mode": {
    "name": "ipython",
    "version": 3
   },
   "file_extension": ".py",
   "mimetype": "text/x-python",
   "name": "python",
   "nbconvert_exporter": "python",
   "pygments_lexer": "ipython3",
   "version": "3.8.8"
  }
 },
 "nbformat": 4,
 "nbformat_minor": 2
}
