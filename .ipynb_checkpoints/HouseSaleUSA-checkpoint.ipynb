{
 "cells": [
  {
   "cell_type": "code",
   "execution_count": 85,
   "metadata": {},
   "outputs": [],
   "source": [
    "#1.Quantas casas estão disponíveis para compra?\n",
    "#2.Quantos atributos as casas possuem?(Número de quartos,número de garagens)\n",
    "#3.Quais são os atributos?\n",
    "#4.Casa mais cara do portfólio(Casa com maior valor)\n",
    "#5.Qual a casa com o maior número de quartos?\n",
    "#6.Qual a soma total de quartos do conjunto de dados?\n",
    "#7.Quantas casas possuem 2 banheiros?\n",
    "#8.Qual o preço médio de todas as casas do conjunto de dados?\n",
    "#9.Qual o preço médio de casas com 2 banheiros?\n",
    "#10.Qual o preço mínimo entre casas com 3 quartos?\n",
    "#11.Quantas casas possuem mais de 300 metros quadrados na sala de estar?\n",
    "#12.Quantas casas têm mais de 2 andares?\n",
    "#13.Quantas casas têm vista para o mar?\n",
    "#14.Das casas com vista para o mar, quantas possuem 3 quartos?\n",
    "#15.Das casas com mais de 300 metros quadrados de sala de estar, quantas têm mais de 2 banheiros?\n",
    "#16.Qual a data do imóvel mais antigo no portfólio?\n",
    "#17.Quantos imóveis possuem o número máximo de andares (3.5)?\n",
    "#18.Criar uma classificação para os imóveis, separando-os em baixo e alto padrão de acordo com o preço\n",
    "#19.Fazer um relatório ordenado pelo preço e contendo as seguintes informações:\n",
    "#20.Criar um mapa indicando onde as casas estão localizadas geograficamente"
   ]
  },
  {
   "cell_type": "code",
   "execution_count": 86,
   "metadata": {},
   "outputs": [
    {
     "name": "stdout",
     "output_type": "stream",
     "text": [
      "1.Quantas casas estão disponíveis para compra?\n",
      "21613\n"
     ]
    }
   ],
   "source": [
    "import pandas as pd\n",
    "import plotly.express as px\n",
    "\n",
    "df = pd.read_csv(\"kc_house_data.csv\")\n",
    "print('1.Quantas casas estão disponíveis para compra?')\n",
    "print(df.shape[0])\n"
   ]
  },
  {
   "cell_type": "code",
   "execution_count": 87,
   "metadata": {},
   "outputs": [
    {
     "name": "stdout",
     "output_type": "stream",
     "text": [
      "2.Quantos atributos as casas possuem?(Número de quartos,número de garagens)\n",
      "21\n"
     ]
    }
   ],
   "source": [
    "print('2.Quantos atributos as casas possuem?(Número de quartos,número de garagens)')\n",
    "print(df.shape[1])"
   ]
  },
  {
   "cell_type": "code",
   "execution_count": 88,
   "metadata": {},
   "outputs": [
    {
     "name": "stdout",
     "output_type": "stream",
     "text": [
      "3.Quais são os atributos?\n",
      "Index(['id', 'date', 'price', 'bedrooms', 'bathrooms', 'sqft_living',\n",
      "       'sqft_lot', 'floors', 'waterfront', 'view', 'condition', 'grade',\n",
      "       'sqft_above', 'sqft_basement', 'yr_built', 'yr_renovated', 'zipcode',\n",
      "       'lat', 'long', 'sqft_living15', 'sqft_lot15'],\n",
      "      dtype='object')\n"
     ]
    }
   ],
   "source": [
    "#Mostrar nome das colunas\n",
    "print('3.Quais são os atributos?')\n",
    "print(df.columns)"
   ]
  },
  {
   "cell_type": "code",
   "execution_count": 89,
   "metadata": {},
   "outputs": [
    {
     "name": "stdout",
     "output_type": "stream",
     "text": [
      "4.Casa mais cara do portfólio(Casa com maior valor)\n",
      "               id      price\n",
      "7252   6762700020  7700000.0\n",
      "3914   9808700762  7062500.0\n",
      "9254   9208900037  6885000.0\n",
      "4411   2470100110  5570000.0\n",
      "1448   8907500070  5350000.0\n",
      "...           ...        ...\n",
      "8274   3883800011    82000.0\n",
      "16198  3028200080    81000.0\n",
      "465    8658300340    80000.0\n",
      "15293    40000362    78000.0\n",
      "1149   3421079032    75000.0\n",
      "\n",
      "[21613 rows x 2 columns]\n",
      "A casa mais cara é a com o id de número: 6762700020\n"
     ]
    }
   ],
   "source": [
    "#Mostrar colunas de id e preço\n",
    "print('4.Casa mais cara do portfólio(Casa com maior valor)')\n",
    "print(df[['id','price']].sort_values('price', ascending=False))\n",
    "print('A casa mais cara é a com o id de número: 6762700020')"
   ]
  },
  {
   "cell_type": "code",
   "execution_count": 90,
   "metadata": {},
   "outputs": [
    {
     "name": "stdout",
     "output_type": "stream",
     "text": [
      "5.Qual a casa com o maior número de quartos?\n",
      "               id  bedrooms\n",
      "15870  2402100895        33\n",
      "8757   1773100755        11\n",
      "15161  5566100170        10\n",
      "13314   627300145        10\n",
      "19254  8812401450        10\n",
      "...           ...       ...\n",
      "19452  3980300371         0\n",
      "8484   2310060040         0\n",
      "875    6306400140         0\n",
      "8477   2569500210         0\n",
      "9773   3374500520         0\n",
      "\n",
      "[21613 rows x 2 columns]\n",
      "A casa com maior número de quartos é a: 2402100895\n"
     ]
    }
   ],
   "source": [
    "#Ordenar pela casa com maior número de quartos\n",
    "print('5.Qual a casa com o maior número de quartos?')\n",
    "print(df[['id','bedrooms']].sort_values('bedrooms', ascending=False))\n",
    "print('A casa com maior número de quartos é a: 2402100895')"
   ]
  },
  {
   "cell_type": "code",
   "execution_count": 91,
   "metadata": {},
   "outputs": [
    {
     "name": "stdout",
     "output_type": "stream",
     "text": [
      "6.Qual a soma total de quartos do conjunto de dados?\n",
      "72854\n"
     ]
    }
   ],
   "source": [
    "#Soma total do número de quartos\n",
    "total_quartos = df['bedrooms'].sum(axis=0)\n",
    "print('6.Qual a soma total de quartos do conjunto de dados?')\n",
    "print(total_quartos)"
   ]
  },
  {
   "cell_type": "code",
   "execution_count": 92,
   "metadata": {},
   "outputs": [
    {
     "name": "stdout",
     "output_type": "stream",
     "text": [
      "7.Quantas casas possuem 2 banheiros?\n",
      "1930\n"
     ]
    }
   ],
   "source": [
    "print('7.Quantas casas possuem 2 banheiros?')\n",
    "banheiros = df[df['bathrooms'] == 2].shape[0]\n",
    "print(banheiros)"
   ]
  },
  {
   "cell_type": "code",
   "execution_count": 93,
   "metadata": {},
   "outputs": [
    {
     "name": "stdout",
     "output_type": "stream",
     "text": [
      "8. Qual o preço médio de todas as casas no conjunto de dados?\n",
      "540088.1417665294\n"
     ]
    }
   ],
   "source": [
    "print('8. Qual o preço médio de todas as casas no conjunto de dados?')\n",
    "preco_medio = df['price'].mean()\n",
    "print(preco_medio)"
   ]
  },
  {
   "cell_type": "code",
   "execution_count": 94,
   "metadata": {},
   "outputs": [
    {
     "name": "stdout",
     "output_type": "stream",
     "text": [
      "9. Qual o preço médio de casas com 2 banheiros?\n",
      "457889.7186528497\n"
     ]
    }
   ],
   "source": [
    "print('9. Qual o preço médio de casas com 2 banheiros?')\n",
    "medio_2banheiros = df.loc[df['bathrooms'] == 2,'price'].mean()\n",
    "print(medio_2banheiros)"
   ]
  },
  {
   "cell_type": "code",
   "execution_count": 95,
   "metadata": {},
   "outputs": [
    {
     "name": "stdout",
     "output_type": "stream",
     "text": [
      "10. Qual o preço mínimo entre as casas com 3 quartos?\n",
      "82000.0\n"
     ]
    }
   ],
   "source": [
    "print('10. Qual o preço mínimo entre as casas com 3 quartos?')\n",
    "min_3quartos = df.loc[df['bedrooms'] == 3,'price'].min()\n",
    "print(min_3quartos)"
   ]
  },
  {
   "cell_type": "code",
   "execution_count": 96,
   "metadata": {},
   "outputs": [
    {
     "name": "stdout",
     "output_type": "stream",
     "text": [
      "11. Quantas casas possuem mais de 300 metros quadrados na sala de estar?\n",
      "2258\n"
     ]
    }
   ],
   "source": [
    "print('11. Quantas casas possuem mais de 300 metros quadrados na sala de estar?')\n",
    "df['casas_2m'] = df['sqft_living'] * 0.09290304\n",
    "casas_300m = df[df['casas_2m'] > 300].shape[0]\n",
    "print(casas_300m)"
   ]
  },
  {
   "cell_type": "code",
   "execution_count": 97,
   "metadata": {},
   "outputs": [
    {
     "name": "stdout",
     "output_type": "stream",
     "text": [
      "12. Quantas casas tem mais de 2 andares?\n",
      "782\n"
     ]
    }
   ],
   "source": [
    "print('12. Quantas casas tem mais de 2 andares?')\n",
    "andares_2 = df[df['floors'] > 2].shape[0] \n",
    "print(andares_2)"
   ]
  },
  {
   "cell_type": "code",
   "execution_count": 98,
   "metadata": {},
   "outputs": [
    {
     "name": "stdout",
     "output_type": "stream",
     "text": [
      "13. Quantas casas tem vista para o mar?\n",
      "163\n"
     ]
    }
   ],
   "source": [
    "print('13. Quantas casas tem vista para o mar?')\n",
    "vista_mar = df[df['waterfront'] > 0 ].shape[0]\n",
    "print(vista_mar)"
   ]
  },
  {
   "cell_type": "code",
   "execution_count": 99,
   "metadata": {},
   "outputs": [
    {
     "name": "stdout",
     "output_type": "stream",
     "text": [
      "14. Das casas com vista para o mar, quantas tem 3 quartos?\n",
      "64\n"
     ]
    }
   ],
   "source": [
    "print('14. Das casas com vista para o mar, quantas tem 3 quartos?')\n",
    "vista_mar_3quartos = df[(df['waterfront'] > 0) & (df['bedrooms'] == 3)].shape[0]\n",
    "print(vista_mar_3quartos)"
   ]
  },
  {
   "cell_type": "code",
   "execution_count": 100,
   "metadata": {},
   "outputs": [
    {
     "name": "stdout",
     "output_type": "stream",
     "text": [
      "15. Das casas com mais de 300 metros quadrados de sala de estar, quantas tem mais de 2 banheiros?\n",
      "2201\n"
     ]
    }
   ],
   "source": [
    "print('15. Das casas com mais de 300 metros quadrados de sala de estar, quantas tem mais de 2 banheiros?')\n",
    "sala_2banheiros = df[(df['casas_2m'] > 300) & (df['bathrooms'] > 2)].shape[0]\n",
    "print(sala_2banheiros)"
   ]
  },
  {
   "cell_type": "code",
   "execution_count": 101,
   "metadata": {},
   "outputs": [
    {
     "name": "stdout",
     "output_type": "stream",
     "text": [
      "16. Qual a data do imóvel mais antigo no portfólio?\n",
      "Este é o imóvel mais antigo\n"
     ]
    },
    {
     "data": {
      "text/html": [
       "<div>\n",
       "<style scoped>\n",
       "    .dataframe tbody tr th:only-of-type {\n",
       "        vertical-align: middle;\n",
       "    }\n",
       "\n",
       "    .dataframe tbody tr th {\n",
       "        vertical-align: top;\n",
       "    }\n",
       "\n",
       "    .dataframe thead th {\n",
       "        text-align: right;\n",
       "    }\n",
       "</style>\n",
       "<table border=\"1\" class=\"dataframe\">\n",
       "  <thead>\n",
       "    <tr style=\"text-align: right;\">\n",
       "      <th></th>\n",
       "      <th>id</th>\n",
       "      <th>date</th>\n",
       "    </tr>\n",
       "  </thead>\n",
       "  <tbody>\n",
       "    <tr>\n",
       "      <th>0</th>\n",
       "      <td>5561000190</td>\n",
       "      <td>02/05/2014</td>\n",
       "    </tr>\n",
       "  </tbody>\n",
       "</table>\n",
       "</div>"
      ],
      "text/plain": [
       "           id        date\n",
       "0  5561000190  02/05/2014"
      ]
     },
     "execution_count": 101,
     "metadata": {},
     "output_type": "execute_result"
    }
   ],
   "source": [
    "print('16. Qual a data do imóvel mais antigo no portfólio?')\n",
    "df['date'] = pd.to_datetime(df['date'])\n",
    "antigo = df.sort_values('date',ascending=True)\n",
    "antigo = antigo[['id','date']].head(n=1)\n",
    "antigo['date'] = antigo['date'].dt.strftime('%d/%m/%Y')\n",
    "print('Este é o imóvel mais antigo')\n",
    "antigo.reset_index(drop=True)"
   ]
  },
  {
   "cell_type": "code",
   "execution_count": 102,
   "metadata": {},
   "outputs": [
    {
     "name": "stdout",
     "output_type": "stream",
     "text": [
      "17. Quantos imóveis possuem o número máximo de andares (3.5)?\n",
      "floors\n",
      "3.5        8\n",
      "3.0      613\n",
      "2.5      161\n",
      "2.0     8241\n",
      "1.5     1910\n",
      "1.0    10680\n",
      "Name: id, dtype: int64\n",
      "Imóveis com número máximo de andares:\n"
     ]
    },
    {
     "data": {
      "text/plain": [
       "8"
      ]
     },
     "execution_count": 102,
     "metadata": {},
     "output_type": "execute_result"
    }
   ],
   "source": [
    "print('17. Quantos imóveis possuem o número máximo de andares (3.5)?')\n",
    "m_andares = df.groupby('floors').count()\n",
    "m_andares = m_andares.sort_values('floors',ascending=False)['id']\n",
    "print(m_andares)\n",
    "print('Imóveis com número máximo de andares:')\n",
    "m_andares.iloc[0]"
   ]
  },
  {
   "cell_type": "code",
   "execution_count": 103,
   "metadata": {},
   "outputs": [
    {
     "name": "stdout",
     "output_type": "stream",
     "text": [
      "18. Criar uma classificação para os imóveis, separando-os em baixo e alto padrão de acordo com o preço\n"
     ]
    },
    {
     "data": {
      "text/plain": [
       "array(['low standard', 'high standard'], dtype=object)"
      ]
     },
     "execution_count": 103,
     "metadata": {},
     "output_type": "execute_result"
    }
   ],
   "source": [
    "print('18. Criar uma classificação para os imóveis, separando-os em baixo e alto padrão de acordo com o preço')\n",
    "#acima de 540.000 é high standard e abaixo de 540.000 é low standard\n",
    "df['standard'] = 'level'\n",
    "df.loc[df['price']<540000,'standard'] = 'low standard'\n",
    "df.loc[df['price']>=540000,'standard'] = 'high standard'\n",
    "df['standard'].unique()"
   ]
  },
  {
   "cell_type": "code",
   "execution_count": 104,
   "metadata": {},
   "outputs": [
    {
     "name": "stdout",
     "output_type": "stream",
     "text": [
      "19. Fazer um relatório ordenado pelo preço e contendo as seguintes informações:\n",
      "- Id do imóvel\n",
      "- Data que o imóvel ficou disponível para compra\n",
      "- O número de quartos\n",
      "- O tamanho total do terreno\n",
      "- O preço\n",
      "- A classificação do imóvel (alto e baixo padrão)\n",
      "               id       date  bedrooms  sqft_lot      price       standard\n",
      "7252   6762700020 2014-10-13         6     27600  7700000.0  high standard\n",
      "3914   9808700762 2014-06-11         5     37325  7062500.0  high standard\n",
      "9254   9208900037 2014-09-19         6     31374  6885000.0  high standard\n",
      "4411   2470100110 2014-08-04         5     35069  5570000.0  high standard\n",
      "1448   8907500070 2015-04-13         5     23985  5350000.0  high standard\n",
      "...           ...        ...       ...       ...        ...            ...\n",
      "8274   3883800011 2014-11-05         3     10426    82000.0   low standard\n",
      "16198  3028200080 2015-03-24         2      9975    81000.0   low standard\n",
      "465    8658300340 2014-05-23         1      5050    80000.0   low standard\n",
      "15293    40000362 2014-05-06         2     16344    78000.0   low standard\n",
      "1149   3421079032 2015-02-17         1     43377    75000.0   low standard\n",
      "\n",
      "[21613 rows x 6 columns]\n"
     ]
    }
   ],
   "source": [
    "print(\"\"\"19. Fazer um relatório ordenado pelo preço e contendo as seguintes informações:\n",
    "- Id do imóvel\n",
    "- Data que o imóvel ficou disponível para compra\n",
    "- O número de quartos\n",
    "- O tamanho total do terreno\n",
    "- O preço\n",
    "- A classificação do imóvel (alto e baixo padrão)\"\"\")\n",
    "relatorio = df[['id','date','bedrooms','sqft_lot','price','standard']].sort_values('price',ascending=False)\n",
    "print(relatorio)\n",
    "\n",
    "relatorio.to_csv('Relatorio/dataset.csv',index=False)"
   ]
  },
  {
   "cell_type": "code",
   "execution_count": null,
   "metadata": {},
   "outputs": [
    {
     "name": "stdout",
     "output_type": "stream",
     "text": [
      "20. Criar um mapa indicando onde as casas estão localizadas geograficamente\n"
     ]
    }
   ],
   "source": [
    "print('20. Criar um mapa indicando onde as casas estão localizadas geograficamente')\n",
    "\n",
    "mapa_data = df[['id','lat','long','price']]\n",
    "\n",
    "mapa = px.scatter_mapbox(mapa_data, lat='lat', lon='long', hover_name='id',\n",
    "                        hover_data = ['price'],\n",
    "                        color_discrete_sequence=['black'],\n",
    "                        zoom=3,\n",
    "                        height=300)\n",
    "mapa.update_layout(mapbox_style='open-street-map')\n",
    "mapa.update_layout(height=600, margin={ 'r':0,'t':0,'l':0,'b':0})\n",
    "mapa.show()"
   ]
  },
  {
   "cell_type": "code",
   "execution_count": null,
   "metadata": {},
   "outputs": [],
   "source": [
    "mapa.write_html('Relatorio/Mapa das casas.html')"
   ]
  },
  {
   "cell_type": "code",
   "execution_count": null,
   "metadata": {},
   "outputs": [],
   "source": []
  }
 ],
 "metadata": {
  "interpreter": {
   "hash": "0f582f24f8e535461a70587e31ee569290de50431b7adc187ab7c53ff38249c8"
  },
  "kernelspec": {
   "display_name": "Python 3",
   "language": "python",
   "name": "python3"
  },
  "language_info": {
   "codemirror_mode": {
    "name": "ipython",
    "version": 3
   },
   "file_extension": ".py",
   "mimetype": "text/x-python",
   "name": "python",
   "nbconvert_exporter": "python",
   "pygments_lexer": "ipython3",
   "version": "3.8.8"
  }
 },
 "nbformat": 4,
 "nbformat_minor": 2
}
